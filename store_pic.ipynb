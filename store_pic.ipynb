{
 "cells": [
  {
   "cell_type": "code",
   "execution_count": 1,
   "metadata": {},
   "outputs": [
    {
     "name": "stdout",
     "output_type": "stream",
     "text": [
      "Face not found\n",
      "Face not found\n",
      "Face not found\n",
      "Collecting Samples Complete\n"
     ]
    }
   ],
   "source": [
    "import cv2\n",
    "import numpy as np\n",
    "face_classifier = cv2.CascadeClassifier('Haarcascades/haarcascade_frontalface_default.xml')\n",
    "def face_extractor(img):\n",
    "   \n",
    "    faces = face_classifier.detectMultiScale(img, 1.3, 5)\n",
    "    \n",
    "    if faces is ():\n",
    "        return None\n",
    "\n",
    "    for (x,y,w,h) in faces:\n",
    "        cropped_face = img[y:y+h, x:x+w]\n",
    "\n",
    "    return cropped_face\n",
    "\n",
    "\n",
    "cap = cv2.VideoCapture(0)\n",
    "\n",
    "count = 11\n",
    "\n",
    "n = count\n",
    "\n",
    "while True and count< n+3:\n",
    "\n",
    "    ret, frame = cap.read()\n",
    "    \n",
    "    if face_extractor(frame) is not None:\n",
    "        \n",
    "        count+=1\n",
    "        \n",
    "        face = cv2.resize(face_extractor(frame), (240, 240))\n",
    "        \n",
    "        if count%2 == 0:\n",
    "            \n",
    "            st = 'A'\n",
    "        else:\n",
    "            \n",
    "            st = 'B'\n",
    "        \n",
    "        file_name_path = './database/' + str(n)+ st + '.jpg'\n",
    "        \n",
    "        cv2.imwrite(file_name_path, face)\n",
    "        \n",
    "        cv2.imshow('Face Cropper', face)\n",
    "        \n",
    "    \n",
    "    else:\n",
    "    \n",
    "        print(\"Face not found\")\n",
    "        \n",
    "        pass\n",
    "\n",
    "    if cv2.waitKey(1) == 13: \n",
    "    \n",
    "        break\n",
    "        \n",
    "cap.release()\n",
    "\n",
    "cv2.destroyAllWindows()      \n",
    "\n",
    "print(\"Collecting Samples Complete\")"
   ]
  },
  {
   "cell_type": "code",
   "execution_count": 8,
   "metadata": {},
   "outputs": [],
   "source": [
    "cap.release()\n",
    "cv2.destroyAllWindows()"
   ]
  }
 ],
 "metadata": {
  "kernelspec": {
   "display_name": "Python 3",
   "language": "python",
   "name": "python3"
  },
  "language_info": {
   "codemirror_mode": {
    "name": "ipython",
    "version": 3
   },
   "file_extension": ".py",
   "mimetype": "text/x-python",
   "name": "python",
   "nbconvert_exporter": "python",
   "pygments_lexer": "ipython3",
   "version": "3.6.4"
  }
 },
 "nbformat": 4,
 "nbformat_minor": 2
}
